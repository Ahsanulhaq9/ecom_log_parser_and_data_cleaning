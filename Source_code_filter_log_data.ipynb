{
 "cells": [
  {
   "cell_type": "code",
   "execution_count": null,
   "id": "46489dae",
   "metadata": {},
   "outputs": [],
   "source": [
    "import os\n",
    "\n",
    "log_directory = \"C:/Users/engra/Desktop/PC Apurba Working DATA/Ahiri/ecom_log/archived\"\n",
    "filtered_log_directory = \"C:/Users/engra/Desktop/PC Apurba Working DATA/Ahiri/ecom_log/archived/output_files\"\n",
    "\n",
    "for filename in os.listdir(log_directory):\n",
    "    if filename.endswith(\".log\"):\n",
    "        log_file = os.path.join(log_directory, filename)\n",
    "        filtered_log_file = os.path.join(filtered_log_directory, \"ahiri_\" + filename)\n",
    "        with open(log_file, \"r\") as file:\n",
    "            data = file.readlines()\n",
    "            filtered_data = []\n",
    "            for line in data:\n",
    "                if \"org.apurba.ecom\" in line:\n",
    "                    filtered_data.append(line)\n",
    "\n",
    "        with open(filtered_log_file, \"w\") as file:\n",
    "            for line in filtered_data:\n",
    "                file.write(line)\n"
   ]
  }
 ],
 "metadata": {
  "kernelspec": {
   "display_name": "Python 3 (ipykernel)",
   "language": "python",
   "name": "python3"
  },
  "language_info": {
   "codemirror_mode": {
    "name": "ipython",
    "version": 3
   },
   "file_extension": ".py",
   "mimetype": "text/x-python",
   "name": "python",
   "nbconvert_exporter": "python",
   "pygments_lexer": "ipython3",
   "version": "3.9.12"
  }
 },
 "nbformat": 4,
 "nbformat_minor": 5
}
