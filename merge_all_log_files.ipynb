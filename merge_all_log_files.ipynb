{
 "cells": [
  {
   "cell_type": "code",
   "execution_count": 3,
   "id": "39caae82",
   "metadata": {},
   "outputs": [],
   "source": [
    "import os\n",
    "\n",
    "folder_path = 'C:/Users/engra/Desktop/PC Apurba Working DATA/Ahiri/ecom_log/final_output_files/data_output_files' # replace with the path to the folder containing the .log files\n",
    "output_file = 'Ahiri_logs.log' # name of the output file\n",
    "\n",
    "log_files = [f for f in os.listdir(folder_path) if f.endswith('.log')]\n",
    "\n",
    "with open(os.path.join(folder_path, output_file), 'w') as outfile:\n",
    "    for log_file in log_files:\n",
    "        with open(os.path.join(folder_path, log_file), 'r') as infile:\n",
    "            outfile.write(infile.read())"
   ]
  },
  {
   "cell_type": "code",
   "execution_count": null,
   "id": "df3a1579",
   "metadata": {},
   "outputs": [],
   "source": []
  }
 ],
 "metadata": {
  "kernelspec": {
   "display_name": "Python 3 (ipykernel)",
   "language": "python",
   "name": "python3"
  },
  "language_info": {
   "codemirror_mode": {
    "name": "ipython",
    "version": 3
   },
   "file_extension": ".py",
   "mimetype": "text/x-python",
   "name": "python",
   "nbconvert_exporter": "python",
   "pygments_lexer": "ipython3",
   "version": "3.9.12"
  }
 },
 "nbformat": 4,
 "nbformat_minor": 5
}
